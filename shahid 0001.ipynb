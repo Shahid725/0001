{
 "cells": [
  {
   "cell_type": "code",
   "execution_count": 2,
   "metadata": {},
   "outputs": [],
   "source": [
    "    \n",
    "import random\n",
    "print(\"\\tWelcome to End Game\")\n",
    "print(\"\\tYou are Trapped!!!!! \\n \\tYou have 3 choices!!!!!\")\n",
    "print('| A Dragon Room(Type dr) | A Bear Room(Type br) | Exit(Type e) |')\n",
    "while True:\n",
    "    choice = input(\"Your Choice Here: \")\n",
    "    if choice == \"dr\":\n",
    "        while True:\n",
    "            print(\"Do you want to fight a)Fire Dragon or b)Ice Dragon?\")\n",
    "            dragon = input(\"Which Dragon?: \")\n",
    "            if dragon == \"a\":\n",
    "                l = [\"You Win\",\"You Die\"]\n",
    "                print(random.choice(l))\n",
    "                break\n",
    "            elif dragon == \"b\":\n",
    "                print(\"You Win\")\n",
    "                break\n",
    "            else:\n",
    "                print(\"Please Select a Dragon\")\n",
    "        break\n",
    "    elif choice == \" br\":\n",
    "        while True:\n",
    "            print(\"Do you want to fight a)Brown Bear or b)White Bear?\")\n",
    "            bear = input(\"Which Bear?: \")\n",
    "            if bear == \"a\":\n",
    "                while True:\n",
    "                    print(\"Do you want to fight or not fight?\")\n",
    "                    yn = input(\"yes/no: \")\n",
    "                    if yn == \"yes\":\n",
    "                        print(\"You Win\")\n",
    "                        break\n",
    "                    elif yn == \"no\":\n",
    "                        print(\"You Loose\")\n",
    "                        break\n",
    "                    else:\n",
    "                        print(\"Please Select yes/no\")\n",
    "                break\n",
    "            elif bear == \"b\":\n",
    "                print(\"You Win\")\n",
    "                break\n",
    "            else:\n",
    "                print(\"Please Select a Bear\")\n",
    "        break\n",
    "    elif choice == \"e\":\n",
    "        print(\"You Die\")\n",
    "        break\n",
    "    else:\n",
    "        print(\"Please give your Choice\")\n",
    "\n"
   ]
  },
  {
   "cell_type": "code",
   "execution_count": null,
   "metadata": {},
   "outputs": [],
   "source": [
    "\n",
    "                           \n",
    "        "
   ]
  }
 ],
 "metadata": {
  "kernelspec": {
   "display_name": "Python 3",
   "language": "python",
   "name": "python3"
  },
  "language_info": {
   "codemirror_mode": {
    "name": "ipython",
    "version": 3
   },
   "file_extension": ".py",
   "mimetype": "text/x-python",
   "name": "python",
   "nbconvert_exporter": "python",
   "pygments_lexer": "ipython3",
   "version": "3.7.3"
  }
 },
 "nbformat": 4,
 "nbformat_minor": 2
}
